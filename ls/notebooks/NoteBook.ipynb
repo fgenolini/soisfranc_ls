{
 "cells": [
  {
   "cell_type": "code",
   "execution_count": 6,
   "id": "f9c7b3a0-a8bb-4fc6-9970-ea39ed2d61f7",
   "metadata": {},
   "outputs": [
    {
     "data": {
      "image/svg+xml": [
       "<svg viewBox=\"0 0 640 599\" height=\"599\" width=\"640\" text-anchor=\"middle\" font-size=\"10\" font-family=\"system-ui, sans-serif\" fill=\"currentColor\" class=\"plot-d6a7b5\"><style>:where(.plot-d6a7b5) {\n",
       "  --plot-background: white;\n",
       "  display: block;\n",
       "  height: auto;\n",
       "  height: intrinsic;\n",
       "  max-width: 100%;\n",
       "}\n",
       ":where(.plot-d6a7b5 text),\n",
       ":where(.plot-d6a7b5 tspan) {\n",
       "  white-space: pre;\n",
       "}</style><g stroke-miterlimit=\"1\" stroke-opacity=\"0.5\" stroke-width=\"1.5\" fill=\"none\" aria-label=\"link\"><path stroke=\"#636363\" d=\"M100,299.5C155,299.5,155,299.5,210,299.5\" /><path stroke=\"#636363\" d=\"M210,299.5C265,299.5,265,100,320,100\" /><path stroke=\"#bdbdbd\" d=\"M210,299.5C265,299.5,265,179.8,320,179.8\" /><path stroke=\"#bdbdbd\" d=\"M210,299.5C265,299.5,265,259.6,320,259.6\" /><path stroke=\"#bdbdbd\" d=\"M210,299.5C265,299.5,265,339.4,320,339.4\" /><path stroke=\"#636363\" d=\"M210,299.5C265,299.5,265,419.2,320,419.2\" /><path stroke=\"#bdbdbd\" d=\"M210,299.5C265,299.5,265,499,320,499\" /><path stroke=\"#bdbdbd\" d=\"M320,100C375,100,375,100,430,100\" /><path stroke=\"#636363\" d=\"M320,419.2C375,419.2,375,379.3,430,379.3\" /><path stroke=\"#bdbdbd\" d=\"M320,419.2C375,419.2,375,459.1,430,459.1\" /><path stroke=\"#bdbdbd\" d=\"M430,379.3C485,379.3,485,339.4,540,339.4\" /><path stroke=\"#bdbdbd\" d=\"M430,379.3C485,379.3,485,419.2,540,419.2\" /></g><g aria-label=\"dot\"><circle fill=\"#636363\" r=\"3\" cy=\"299.5\" cx=\"100\"><title>/</title></circle><circle fill=\"#636363\" r=\"3\" cy=\"299.5\" cx=\"210\"><title>/ls</title></circle><circle fill=\"#636363\" r=\"3\" cy=\"100\" cx=\"320\"><title>/ls/.vscode</title></circle><circle fill=\"#bdbdbd\" r=\"3\" cy=\"179.79999999999998\" cx=\"320\"><title>/ls/deno.json</title></circle><circle fill=\"#bdbdbd\" r=\"3\" cy=\"259.6\" cx=\"320\"><title>/ls/deno.lock</title></circle><circle fill=\"#bdbdbd\" r=\"3\" cy=\"339.4\" cx=\"320\"><title>/ls/mod.ts</title></circle><circle fill=\"#636363\" r=\"3\" cy=\"419.20000000000005\" cx=\"320\"><title>/ls/notebooks</title></circle><circle fill=\"#bdbdbd\" r=\"3\" cy=\"499\" cx=\"320\"><title>/ls/README.md</title></circle><circle fill=\"#bdbdbd\" r=\"3\" cy=\"100\" cx=\"430\"><title>/ls/.vscode/settings.json</title></circle><circle fill=\"#636363\" r=\"3\" cy=\"379.29999999999995\" cx=\"430\"><title>/ls/notebooks/.ipynb_checkpoints</title></circle><circle fill=\"#bdbdbd\" r=\"3\" cy=\"459.1\" cx=\"430\"><title>/ls/notebooks/NoteBook.ipynb</title></circle><circle fill=\"#bdbdbd\" r=\"3\" cy=\"339.4\" cx=\"540\"><title>/ls/notebooks/.ipynb_checkpoints/NoteBook-checkpoint.ipynb</title></circle><circle fill=\"#bdbdbd\" r=\"3\" cy=\"419.20000000000005\" cx=\"540\"><title>/ls/notebooks/.ipynb_checkpoints/Untitled-checkpoint.ipynb</title></circle></g><g transform=\"translate(6,0)\" text-anchor=\"start\" paint-order=\"stroke\" stroke-linejoin=\"round\" stroke-width=\"3\" stroke=\"var(--plot-background)\" aria-label=\"text\"><text transform=\"translate(320,179.79999999999998)\" y=\"0.32em\">deno.json<title>/ls/deno.json</title></text><text transform=\"translate(320,259.6)\" y=\"0.32em\">deno.lock<title>/ls/deno.lock</title></text><text transform=\"translate(320,339.4)\" y=\"0.32em\">mod.ts<title>/ls/mod.ts</title></text><text transform=\"translate(320,499)\" y=\"0.32em\">README.md<title>/ls/README.md</title></text><text transform=\"translate(430,100)\" y=\"0.32em\">settings.json<title>/ls/.vscode/settings.json</title></text><text transform=\"translate(430,459.1)\" y=\"0.32em\">NoteBook.ipynb<title>/ls/notebooks/NoteBook.ipynb</title></text><text transform=\"translate(540,339.4)\" y=\"0.32em\">NoteBook-checkpoint.ipynb<title>/ls/notebooks/.ipynb_checkpoints/NoteBook-checkpoint.ipynb</title></text><text transform=\"translate(540,419.20000000000005)\" y=\"0.32em\">Untitled-checkpoint.ipynb<title>/ls/notebooks/.ipynb_checkpoints/Untitled-checkpoint.ipynb</title></text></g><g transform=\"translate(-6,0)\" text-anchor=\"end\" paint-order=\"stroke\" stroke-linejoin=\"round\" stroke-width=\"3\" stroke=\"var(--plot-background)\" aria-label=\"text\"><text transform=\"translate(210,299.5)\" y=\"0.32em\">ls<title>/ls</title></text><text transform=\"translate(320,100)\" y=\"0.32em\">.vscode<title>/ls/.vscode</title></text><text transform=\"translate(320,419.20000000000005)\" y=\"0.32em\">notebooks<title>/ls/notebooks</title></text><text transform=\"translate(430,379.29999999999995)\" y=\"0.32em\">.ipynb_checkpoints<title>/ls/notebooks/.ipynb_checkpoints</title></text></g></svg>"
      ]
     },
     "execution_count": 6,
     "metadata": {},
     "output_type": "execute_result"
    }
   ],
   "source": [
    "import * as Plot from \"npm:@observablehq/plot\";\n",
    "import { tree } from \"jsr:@soisfranc/ls\";\n",
    "\n",
    "const files = await tree(\"../..\");\n",
    "Plot.plot({\n",
    "    marks: [ Plot.tree(files) ],\n",
    "    axis: null,\n",
    "    margin: 100,\n",
    "    document\n",
    "});"
   ]
  }
 ],
 "metadata": {
  "kernelspec": {
   "display_name": "Deno",
   "language": "typescript",
   "name": "deno"
  },
  "language_info": {
   "codemirror_mode": "typescript",
   "file_extension": ".ts",
   "mimetype": "text/x.typescript",
   "name": "typescript",
   "nbconvert_exporter": "script",
   "pygments_lexer": "typescript",
   "version": "5.6.2"
  }
 },
 "nbformat": 4,
 "nbformat_minor": 5
}
