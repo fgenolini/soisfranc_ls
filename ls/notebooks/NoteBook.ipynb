{
 "cells": [
  {
   "cell_type": "code",
   "execution_count": null,
   "id": "f9c7b3a0-a8bb-4fc6-9970-ea39ed2d61f7",
   "metadata": {},
   "outputs": [
    {
     "data": {
      "image/svg+xml": [
       "<svg viewBox=\"0 0 640 599\" height=\"599\" width=\"640\" text-anchor=\"middle\" font-size=\"10\" font-family=\"system-ui, sans-serif\" fill=\"currentColor\" class=\"plot-d6a7b5\"><style>:where(.plot-d6a7b5) {\n",
       "  --plot-background: white;\n",
       "  display: block;\n",
       "  height: auto;\n",
       "  height: intrinsic;\n",
       "  max-width: 100%;\n",
       "}\n",
       ":where(.plot-d6a7b5 text),\n",
       ":where(.plot-d6a7b5 tspan) {\n",
       "  white-space: pre;\n",
       "}</style><g stroke-miterlimit=\"1\" stroke-opacity=\"0.5\" stroke-width=\"1.5\" fill=\"none\" aria-label=\"link\"><path stroke=\"#636363\" d=\"M100,299.5C173.333,299.5,173.333,100,246.667,100\" /><path stroke=\"#bdbdbd\" d=\"M100,299.5C173.333,299.5,173.333,166.5,246.667,166.5\" /><path stroke=\"#bdbdbd\" d=\"M100,299.5C173.333,299.5,173.333,233,246.667,233\" /><path stroke=\"#bdbdbd\" d=\"M100,299.5C173.333,299.5,173.333,299.5,246.667,299.5\" /><path stroke=\"#bdbdbd\" d=\"M100,299.5C173.333,299.5,173.333,366,246.667,366\" /><path stroke=\"#636363\" d=\"M100,299.5C173.333,299.5,173.333,432.5,246.667,432.5\" /><path stroke=\"#bdbdbd\" d=\"M100,299.5C173.333,299.5,173.333,499,246.667,499\" /><path stroke=\"#bdbdbd\" d=\"M246.667,100C320,100,320,100,393.333,100\" /><path stroke=\"#636363\" d=\"M246.667,432.5C320,432.5,320,399.25,393.333,399.25\" /><path stroke=\"#bdbdbd\" d=\"M246.667,432.5C320,432.5,320,465.75,393.333,465.75\" /><path stroke=\"#bdbdbd\" d=\"M393.333,399.25C466.667,399.25,466.667,399.25,540,399.25\" /></g><g aria-label=\"dot\"><circle fill=\"#636363\" r=\"3\" cy=\"299.5\" cx=\"100\"><title>/</title></circle><circle fill=\"#636363\" r=\"3\" cy=\"100\" cx=\"246.66666666666669\"><title>/.vscode</title></circle><circle fill=\"#bdbdbd\" r=\"3\" cy=\"166.5\" cx=\"246.66666666666669\"><title>/deno.json</title></circle><circle fill=\"#bdbdbd\" r=\"3\" cy=\"233\" cx=\"246.66666666666669\"><title>/deno.lock</title></circle><circle fill=\"#bdbdbd\" r=\"3\" cy=\"299.5\" cx=\"246.66666666666669\"><title>/ls.exe</title></circle><circle fill=\"#bdbdbd\" r=\"3\" cy=\"366\" cx=\"246.66666666666669\"><title>/mod.ts</title></circle><circle fill=\"#636363\" r=\"3\" cy=\"432.50000000000006\" cx=\"246.66666666666669\"><title>/notebooks</title></circle><circle fill=\"#bdbdbd\" r=\"3\" cy=\"499\" cx=\"246.66666666666669\"><title>/README.md</title></circle><circle fill=\"#bdbdbd\" r=\"3\" cy=\"100\" cx=\"393.3333333333333\"><title>/.vscode/settings.json</title></circle><circle fill=\"#636363\" r=\"3\" cy=\"399.25\" cx=\"393.3333333333333\"><title>/notebooks/.ipynb_checkpoints</title></circle><circle fill=\"#bdbdbd\" r=\"3\" cy=\"465.74999999999994\" cx=\"393.3333333333333\"><title>/notebooks/NoteBook.ipynb</title></circle><circle fill=\"#bdbdbd\" r=\"3\" cy=\"399.25\" cx=\"540\"><title>/notebooks/.ipynb_checkpoints/NoteBook-checkpoint.ipynb</title></circle></g><g transform=\"translate(6,0)\" text-anchor=\"start\" paint-order=\"stroke\" stroke-linejoin=\"round\" stroke-width=\"3\" stroke=\"var(--plot-background)\" aria-label=\"text\"><text transform=\"translate(246.66666666666669,166.5)\" y=\"0.32em\">deno.json<title>/deno.json</title></text><text transform=\"translate(246.66666666666669,233)\" y=\"0.32em\">deno.lock<title>/deno.lock</title></text><text transform=\"translate(246.66666666666669,299.5)\" y=\"0.32em\">ls.exe<title>/ls.exe</title></text><text transform=\"translate(246.66666666666669,366)\" y=\"0.32em\">mod.ts<title>/mod.ts</title></text><text transform=\"translate(246.66666666666669,499)\" y=\"0.32em\">README.md<title>/README.md</title></text><text transform=\"translate(393.3333333333333,100)\" y=\"0.32em\">settings.json<title>/.vscode/settings.json</title></text><text transform=\"translate(393.3333333333333,465.74999999999994)\" y=\"0.32em\">NoteBook.ipynb<title>/notebooks/NoteBook.ipynb</title></text><text transform=\"translate(540,399.25)\" y=\"0.32em\">NoteBook-checkpoint.ipynb<title>/notebooks/.ipynb_checkpoints/NoteBook-checkpoint.ipynb</title></text></g><g transform=\"translate(-6,0)\" text-anchor=\"end\" paint-order=\"stroke\" stroke-linejoin=\"round\" stroke-width=\"3\" stroke=\"var(--plot-background)\" aria-label=\"text\"><text transform=\"translate(246.66666666666669,100)\" y=\"0.32em\">.vscode<title>/.vscode</title></text><text transform=\"translate(246.66666666666669,432.50000000000006)\" y=\"0.32em\">notebooks<title>/notebooks</title></text><text transform=\"translate(393.3333333333333,399.25)\" y=\"0.32em\">.ipynb_checkpoints<title>/notebooks/.ipynb_checkpoints</title></text></g></svg>"
      ]
     },
     "execution_count": 7,
     "metadata": {},
     "output_type": "execute_result"
    }
   ],
   "source": [
    "import * as Plot from \"npm:@observablehq/plot\";\n",
    "import { document } from \"jsr:@ry/jupyter-helper\";\n",
    "import { tree } from \"jsr:@soisfranc/ls\";\n",
    "\n",
    "const files = await tree(\"../../ls\");\n",
    "Plot.plot({\n",
    "    marks: [ Plot.tree(files) ],\n",
    "    axis: null,\n",
    "    margin: 100,\n",
    "    document\n",
    "});"
   ]
  }
 ],
 "metadata": {
  "kernelspec": {
   "display_name": "Deno",
   "language": "typescript",
   "name": "deno"
  },
  "language_info": {
   "codemirror_mode": "typescript",
   "file_extension": ".ts",
   "mimetype": "text/x.typescript",
   "name": "typescript",
   "nbconvert_exporter": "script",
   "pygments_lexer": "typescript",
   "version": "5.6.2"
  }
 },
 "nbformat": 4,
 "nbformat_minor": 5
}
